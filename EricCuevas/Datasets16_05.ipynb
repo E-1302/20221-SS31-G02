{
  "nbformat": 4,
  "nbformat_minor": 0,
  "metadata": {
    "colab": {
      "name": "Datasets16/05.ipynb",
      "provenance": [],
      "collapsed_sections": [],
      "authorship_tag": "ABX9TyPShiHa3Y6FmFUKqKqGpq7b",
      "include_colab_link": true
    },
    "kernelspec": {
      "name": "python3",
      "display_name": "Python 3"
    },
    "language_info": {
      "name": "python"
    }
  },
  "cells": [
    {
      "cell_type": "markdown",
      "metadata": {
        "id": "view-in-github",
        "colab_type": "text"
      },
      "source": [
        "<a href=\"https://colab.research.google.com/github/E-1302/20221-SS31-G02/blob/main/Datasets16_05.ipynb\" target=\"_parent\"><img src=\"https://colab.research.google.com/assets/colab-badge.svg\" alt=\"Open In Colab\"/></a>"
      ]
    },
    {
      "cell_type": "code",
      "source": [
        "%%writefile lecturaorig.cpp\n",
        "#include <iostream>\n",
        "#include <string>\n",
        "#include <vector>\n",
        "using namespace std;\n",
        "\n",
        "struct Registro{\n",
        "    int c[26];\n",
        "    string airline, tailNumber, origAirport,destAirport,cancReason;\n",
        "};\n",
        "\n",
        "\n",
        "int main(){\n",
        "    Registro r;\n",
        "    vector<Registro> registros;\n",
        "    unsigned ti,tf;\n",
        "    char airline[5],tailNumber[10], origAirport[5],destAirport[5],cancReason[5];\n",
        "    ti=clock();\n",
        "    FILE* stream =fopen(\"flights_.csv\",\"r\");\n",
        "    long c=0;\n",
        "\n",
        "    while(fscanf(stream, \"%d,%d,%d,%d, %[^,], %d, %[^,],%[^,],%[^,],%d,%d,%d,%d,%d,%d,%d,%d,%d,%d,%d,%d,%d,%d,%d,%d,%[^,],%d,%d,%d,%d,%d\", \n",
        "                 &r.c[0], &r.c[1], &r.c[2], &r.c[3], airline, &r.c[4], \n",
        "                 tailNumber, origAirport, destAirport, &r.c[5], &r.c[6], \n",
        "                 &r.c[7], &r.c[8], &r.c[9], &r.c[10], &r.c[11], &r.c[12], &r.c[13], \n",
        "                 &r.c[14], &r.c[15], &r.c[16], &r.c[17], &r.c[18], &r.c[19], &r.c[20], \n",
        "                 cancReason, & r.c[21], &r.c[22], &r.c[23], &r.c[24], &r.c[25])!=EOF)\n",
        "    {\n",
        "            r.airline=airline;\n",
        "            r.tailNumber=tailNumber;\n",
        "            r.origAirport=origAirport;\n",
        "            r.cancReason=cancReason;\n",
        "            ++c;\n",
        "            registros.push_back(r);\n",
        "    }\n",
        "    fclose(stream);\n",
        "    tf=clock();\n",
        "    float tiempo = (float(tf - ti)/CLOCKS_PER_SEC);\n",
        "\n",
        "    cout<<\"Cantidad de registros: \"<<c<<endl;\n",
        "    cout<<\"Duracion de lectura de datos: \"<<tiempo<<endl;\n",
        "    cout<<\"Cantidad de registros escritos en vector: \"<<registros.size()<<endl;\n",
        "}\n",
        "\n",
        "//%d -> numerico\n",
        "//%[^,]-> lee todos los caracteres hasta antes de una coma"
      ],
      "metadata": {
        "id": "wv2SHjIy1qif"
      },
      "execution_count": null,
      "outputs": []
    },
    {
      "cell_type": "code",
      "source": [
        "#Asignación\n",
        "\n",
        "1-Registro como clase y experimentar el tiempo de ejecución \n",
        "\n",
        "2-Insertar en el vector propio(github/semana4)\n",
        "\n",
        "3-Adaptar el quicksort (semana 7) al vector propio,experimentar el tiempo de ejecución."
      ],
      "metadata": {
        "id": "sibcu4fAZvTH"
      },
      "execution_count": null,
      "outputs": []
    },
    {
      "cell_type": "code",
      "source": [
        "#abrir el drive (montar)\n",
        "from google.colab import drive\n",
        "drive.mount('/gdrive')"
      ],
      "metadata": {
        "id": "o6JSB_DaS6NO"
      },
      "execution_count": null,
      "outputs": []
    },
    {
      "cell_type": "code",
      "source": [
        "#copiando archivo dataset al entorno de desarrollo\n",
        "!cp /gdrive/MyDrive/Datasets/flights_.csv /content"
      ],
      "metadata": {
        "id": "VI507ypZTxlq"
      },
      "execution_count": 19,
      "outputs": []
    },
    {
      "cell_type": "markdown",
      "source": [
        "ASIGNACION 1:\n"
      ],
      "metadata": {
        "id": "knwQ5FBd1-vn"
      }
    },
    {
      "cell_type": "code",
      "execution_count": null,
      "metadata": {
        "id": "XGHOWOqfNswE"
      },
      "outputs": [],
      "source": [
        "%%writefile lectura1.cpp\n",
        "#include <iostream>\n",
        "#include <string>\n",
        "#include <vector>\n",
        "using namespace std;\n",
        "\n",
        "//struct\n",
        "class Registro{\n",
        "private:\n",
        "    int* c;\n",
        "    string airline, tailNumber, origAirport,destAirport,cancReason;\n",
        "\n",
        "public:\n",
        "    Registro(){\n",
        "        c = new int[26];\n",
        "    }\n",
        "    ~Registro(){}\n",
        "    int* getc(){return c;}\n",
        "    void setairline(string airline){this->airline=airline;}\n",
        "    void settailNumber(string tailNumber){this->tailNumber=tailNumber;}\n",
        "    void setorigAirport(string origAirport){this->origAirport=origAirport;}\n",
        "    void setdestAirport(string destAirport){this->destAirport=destAirport;}\n",
        "    void setcancReason(string cancReason){this->cancReason=cancReason;}\n",
        "\n",
        "};\n",
        "\n",
        "int main(){\n",
        "    Registro r;\n",
        "    vector<Registro> registros;\n",
        "    unsigned ti,tf;\n",
        "    char airline[5],tailNumber[10], origAirport[5],destAirport[5],cancReason[5];\n",
        "    ti=clock();\n",
        "    FILE* stream =fopen(\"flights_.csv\",\"r\");\n",
        "    long c=0;\n",
        "    while(fscanf(stream, \"%d,%d,%d,%d, %[^,], %d, %[^,],%[^,],%[^,],%d,%d,%d,%d,%d,%d,%d,%d,%d,%d,%d,%d,%d,%d,%d,%d,%[^,],%d,%d,%d,%d,%d\", \n",
        "                 &r.getc()[0], &r.getc()[1], &r.getc()[2], &r.getc()[3], airline, &r.getc()[4], \n",
        "                 tailNumber, origAirport, destAirport, &r.getc()[5], &r.getc()[6], \n",
        "                 &r.getc()[7], &r.getc()[8], &r.getc()[9], &r.getc()[10], &r.getc()[11], &r.getc()[12], &r.getc()[13], \n",
        "                 &r.getc()[14], &r.getc()[15], &r.getc()[16], &r.getc()[17], &r.getc()[18], &r.getc()[19], &r.getc()[20], \n",
        "                 cancReason, & r.getc()[21], &r.getc()[22], &r.getc()[23], &r.getc()[24], &r.getc()[25])!=EOF)\n",
        "    {\n",
        "        r.setairline(airline);\n",
        "        r.settailNumber(tailNumber);\n",
        "        r.setorigAirport(origAirport);\n",
        "        r.setdestAirport(destAirport);\n",
        "        r.setcancReason(cancReason);\n",
        "        ++c;\n",
        "        registros.push_back(r);\n",
        "    }\n",
        "    fclose(stream);\n",
        "    tf=clock();\n",
        "    float tiempo = (float(tf - ti)/CLOCKS_PER_SEC);\n",
        "\n",
        "    cout<<\"Cantidad de registros: \"<<c<<endl;\n",
        "    cout<<\"Duracion de lectura de datos: \"<<tiempo<<endl;\n",
        "    cout<<\"Cantidad de registros escritos en vector: \"<<registros.size()<<endl;\n",
        "}"
      ]
    },
    {
      "cell_type": "markdown",
      "source": [
        "ASIGNACION 2:"
      ],
      "metadata": {
        "id": "kkQmX4ra4y2u"
      }
    },
    {
      "cell_type": "code",
      "source": [
        "%%writefile lectura2.cpp\n",
        "#include <iostream>\n",
        "#include <string>\n",
        "using namespace std;\n",
        "\n",
        "template <class T>\n",
        "class MyVector {\n",
        "private:\n",
        "    T* datos;\n",
        "    long long id;\n",
        "    long long size;\n",
        "public:\n",
        "\n",
        "    MyVector(long long size=26):size(size),id(-1) {\n",
        "\t\t  datos = new T[size];\t\n",
        "\t  }\n",
        "   ~MyVector(){}\n",
        "\n",
        "    long long getsize(){ return size;}\n",
        "    T* getid(){return datos;}\n",
        "    void pushback(T d) {datos[++id] = d;\t}\n",
        "};\n",
        "\n",
        "\n",
        "class Registro{\n",
        "private:\n",
        "    string airline, tailNumber, origAirport,destAirport,cancReason;\n",
        "    int* c;\n",
        "public:\n",
        "    Registro(){ c = new int[26];}\n",
        "    ~Registro(){}\n",
        "\n",
        "    int* getc(){return c;} \n",
        "    void setairline(string airline){this->airline=airline;}\n",
        "    void settailNumber(string tailNumber){this->tailNumber=tailNumber;}\n",
        "    void setorigAirport(string origAirport){this->origAirport=origAirport;}\n",
        "    void setdestAirport(string destAirport){this->destAirport=destAirport;}\n",
        "    void setcancReason(string cancReason){this->cancReason=cancReason;}\n",
        "\n",
        "};\n",
        "\n",
        "int main(){\n",
        "    Registro r;\n",
        "    MyVector<Registro> registros(10000000);\n",
        "    unsigned ti,tf;\n",
        "    char airline[5],tailNumber[10], origAirport[5],destAirport[5],cancReason[5];\n",
        "    ti=clock();\n",
        "    FILE* stream =fopen(\"flights_.csv\",\"r\");\n",
        "    long c=0;\n",
        "    while(fscanf(stream, \"%d,%d,%d,%d, %[^,], %d, %[^,],%[^,],%[^,],%d,%d,%d,%d,%d,%d,%d,%d,%d,%d,%d,%d,%d,%d,%d,%d,%[^,],%d,%d,%d,%d,%d\", \n",
        "                 &r.getc()[0], &r.getc()[1], &r.getc()[2], &r.getc()[3], airline, &r.getc()[4], \n",
        "                 tailNumber, origAirport, destAirport, &r.getc()[5], &r.getc()[6], \n",
        "                 &r.getc()[7], &r.getc()[8], &r.getc()[9], &r.getc()[10], &r.getc()[11], &r.getc()[12], &r.getc()[13], \n",
        "                 &r.getc()[14], &r.getc()[15], &r.getc()[16], &r.getc()[17], &r.getc()[18], &r.getc()[19], &r.getc()[20], \n",
        "                 cancReason, & r.getc()[21], &r.getc()[22], &r.getc()[23], &r.getc()[24], &r.getc()[25])!=EOF)\n",
        "    {\n",
        "        r.setairline(airline);\n",
        "        r.settailNumber(tailNumber);\n",
        "        r.setorigAirport(origAirport);\n",
        "        r.setdestAirport(destAirport);\n",
        "        r.setcancReason(cancReason);\n",
        "        ++c;\n",
        "        registros.pushback(r);\n",
        "    }\n",
        "    fclose(stream);\n",
        "    tf=clock();\n",
        "    float tiempo = (float(tf - ti)/CLOCKS_PER_SEC);\n",
        "\n",
        "    cout<<\"Cantidad de registros: \"<<c<<endl;\n",
        "    cout<<\"Duracion de lectura de datos: \"<<tiempo<<endl;\n",
        "    cout<<\"Cantidad de registros escritos en vector: \"<<registros.getid()+1<<endl;\n",
        "}"
      ],
      "metadata": {
        "colab": {
          "base_uri": "https://localhost:8080/"
        },
        "id": "87Nkq6Bf4kmd",
        "outputId": "2d6184ce-0a02-4c0a-be3e-29f44f8f91b1"
      },
      "execution_count": 33,
      "outputs": [
        {
          "output_type": "stream",
          "name": "stdout",
          "text": [
            "Overwriting lectura2.cpp\n"
          ]
        }
      ]
    },
    {
      "cell_type": "code",
      "source": [
        "!g++ lectura2.cpp && ./a.out"
      ],
      "metadata": {
        "id": "jhItAluRXjgi",
        "colab": {
          "base_uri": "https://localhost:8080/"
        },
        "outputId": "c82ef3aa-4fcb-4fed-f8f2-a3b811ebff54"
      },
      "execution_count": 34,
      "outputs": [
        {
          "output_type": "stream",
          "name": "stdout",
          "text": [
            "tcmalloc: large alloc 1680007168 bytes == 0x559f5bd1c000 @  0x7f3aafb89887 0x559f59a38c80 0x559f59a38050 0x7f3aaf1e3c87 0x559f59a37f2a\n",
            "Cantidad de registros: 5714008\n",
            "Duracion de lectura de datos: 13.604\n",
            "Cantidad de registros escritos en vector: 0x559f5bd1c0b0\n"
          ]
        }
      ]
    },
    {
      "cell_type": "markdown",
      "source": [
        "ASIGNACION 3:"
      ],
      "metadata": {
        "id": "GRPKCdYs5AkH"
      }
    },
    {
      "cell_type": "code",
      "source": [
        "%%writefile lectura3.cpp\n",
        "#include <iostream>\n",
        "#include <string>\n",
        "#include <vector>\n",
        "using namespace std;"
      ],
      "metadata": {
        "id": "AUrb-xVO4-h3"
      },
      "execution_count": null,
      "outputs": []
    }
  ]
}
