{
  "nbformat": 4,
  "nbformat_minor": 0,
  "metadata": {
    "colab": {
      "name": "ActividadRecursivos.ipynb",
      "provenance": [],
      "collapsed_sections": [],
      "authorship_tag": "ABX9TyPPrdpWpaZt0mJMuvXc56Yk"
    },
    "kernelspec": {
      "name": "python3",
      "display_name": "Python 3"
    },
    "language_info": {
      "name": "python"
    }
  },
  "cells": [
    {
      "cell_type": "markdown",
      "source": [
        "#Ejercicio 1\n",
        "implementar el factorial de un número con uso de estructuras recursivas\n",
        "\n",
        "\n",
        "5!--> 5*4*3*2*1=120\n",
        "\n"
      ],
      "metadata": {
        "id": "JBI_vPGyzQd3"
      }
    },
    {
      "cell_type": "code",
      "source": [
        "%%writefile ejercicio1.cpp\n",
        "#include <iostream>\n",
        "using namespace std;\n",
        "int factorial(int n) {\n",
        "\tif (n == 0) return 1;\n",
        "\telse\n",
        "\t{\n",
        "\t\tif (n != 1) {\n",
        "\t\t\tcout << n << \" * \";\n",
        "\t\t\treturn n * factorial(n - 1);\n",
        "\t\t}\n",
        "\t\telse\n",
        "\t\t{\n",
        "\t\t\tcout << n << \" = \";\n",
        "\t\t\treturn n * factorial(n - 1);\n",
        "\t\t}\n",
        "\t}\n",
        "}\n",
        "\n",
        "int main(){\n",
        "    cout<<factorial(5);\n",
        "    return 0;  \n",
        "}  "
      ],
      "metadata": {
        "colab": {
          "base_uri": "https://localhost:8080/"
        },
        "id": "pR9lA8Iyzh8j",
        "outputId": "8e26138a-27ec-4148-90cf-f7790dbc6a82"
      },
      "execution_count": 1,
      "outputs": [
        {
          "output_type": "stream",
          "name": "stdout",
          "text": [
            "Writing ejercicio1.cpp\n"
          ]
        }
      ]
    },
    {
      "cell_type": "code",
      "source": [
        "!g++ -std=c++1z ejercicio1.cpp && ./a.out"
      ],
      "metadata": {
        "colab": {
          "base_uri": "https://localhost:8080/"
        },
        "id": "YXC83H5izh5j",
        "outputId": "69ce10a3-bffe-4606-add5-a3daa5831fb0"
      },
      "execution_count": 2,
      "outputs": [
        {
          "output_type": "stream",
          "name": "stdout",
          "text": [
            "5 * 4 * 3 * 2 * 1 = 120"
          ]
        }
      ]
    },
    {
      "cell_type": "markdown",
      "source": [
        "#Ejercicio 2\n",
        "implementar con uso de funciones recursivas el siguiente grafico\n",
        "\n",
        "12345\n",
        "\n",
        "1234\n",
        "\n",
        "123\n",
        "\n",
        "12\n",
        "\n",
        "1"
      ],
      "metadata": {
        "id": "o-1GKc130N8q"
      }
    },
    {
      "cell_type": "code",
      "source": [
        "%%writefile ejercicio2.cpp\n",
        "#include <iostream>\n",
        "using namespace std;\n",
        "void columnas(int vinicial, int n) {\n",
        "\tif (vinicial>n)return;\n",
        "  cout << vinicial << \" \";\n",
        "  vinicial++;\n",
        "\tcolumnas(vinicial, n);\n",
        "}\n",
        "void filas(int n) {\n",
        "  int vinicial=1;\n",
        "\tif (n == 0)return;\n",
        "\tcolumnas(vinicial, n);\n",
        "\tcout << endl;\n",
        "\tfilas(n - 1);\n",
        "}\n",
        "\n",
        "int main() {\n",
        "\tfilas(5);\n",
        "\treturn 0;\n",
        "}"
      ],
      "metadata": {
        "colab": {
          "base_uri": "https://localhost:8080/"
        },
        "id": "rBXQoMj70Nmp",
        "outputId": "ea2e8a0e-b3df-4410-a319-92e7706014c9"
      },
      "execution_count": 21,
      "outputs": [
        {
          "output_type": "stream",
          "name": "stdout",
          "text": [
            "Overwriting ejercicio2.cpp\n"
          ]
        }
      ]
    },
    {
      "cell_type": "code",
      "source": [
        "!g++ -std=c++1z ejercicio2.cpp && ./a.out"
      ],
      "metadata": {
        "colab": {
          "base_uri": "https://localhost:8080/"
        },
        "id": "YyBY-GOW0iV7",
        "outputId": "9e2af16e-dd50-4ba2-bcd6-42b93dbe4ca8"
      },
      "execution_count": 22,
      "outputs": [
        {
          "output_type": "stream",
          "name": "stdout",
          "text": [
            "1 2 3 4 5 \n",
            "1 2 3 4 \n",
            "1 2 3 \n",
            "1 2 \n",
            "1 \n"
          ]
        }
      ]
    },
    {
      "cell_type": "markdown",
      "source": [
        "#Ejercicio 3\n",
        "De cada papel A0 si se divide entre 2 por el largo se obtiene 2 papeles A1\n",
        "\n",
        "De cada papel A1 si se divide entre 2 por el largo se obtiene 2 papeles A2\n",
        "  \n",
        "De cada papel A2 si se divide entre 2 por el largo se obtiene 2 papeles A3\n",
        "\n",
        "De cada papel A3 si se divide entre 2 por el largo se obtiene 2 papeles A4\n",
        "\n",
        "Simular por funciones recursivas el corte de papel desde A0 hasta A4"
      ],
      "metadata": {
        "id": "t2kx1tcn4HOY"
      }
    },
    {
      "cell_type": "code",
      "source": [
        "%%writefile ejercicio3.cpp\n",
        "#include <iostream>\n",
        "using namespace std;\n",
        "void recorte(float ancho, float largo, short c){\n",
        "if(c==0){ return; }\n",
        "if(c%2==0) largo/=2;\n",
        "else ancho/=2;\n",
        "recorte (ancho, largo, c-1);\n",
        "if(c==1)cout<<ancho*largo; //calcular area\n",
        "}\n",
        "int main() {;\n",
        "    recorte(20,20,3);\n",
        "\treturn 0;\n",
        "}"
      ],
      "metadata": {
        "colab": {
          "base_uri": "https://localhost:8080/"
        },
        "id": "0c6jxrxa4Zik",
        "outputId": "391ddc06-3595-448a-e811-1e9c57917a9b"
      },
      "execution_count": 60,
      "outputs": [
        {
          "output_type": "stream",
          "name": "stdout",
          "text": [
            "Overwriting ejercicio3.cpp\n"
          ]
        }
      ]
    },
    {
      "cell_type": "code",
      "source": [
        "!g++ -std=c++1z ejercicio3.cpp && ./a.out"
      ],
      "metadata": {
        "colab": {
          "base_uri": "https://localhost:8080/"
        },
        "id": "YfAanobo4ow9",
        "outputId": "1e8dfd4e-88f6-4d12-e936-dc5ead391df4"
      },
      "execution_count": 61,
      "outputs": [
        {
          "output_type": "stream",
          "name": "stdout",
          "text": [
            "50"
          ]
        }
      ]
    },
    {
      "cell_type": "markdown",
      "source": [
        "#Ejercicio 4\n",
        "Implementar la funcion imprimir en un arreglo generico usando recursividad"
      ],
      "metadata": {
        "id": "2MKKPAtU4aPj"
      }
    },
    {
      "cell_type": "code",
      "source": [
        "%%writefile ejercicio4.cpp\n",
        "#include <iostream>\n",
        "using namespace std;\n",
        "\n",
        "void crear (int arr[], int n, int c){\n",
        "    if(c>n)return;\n",
        "    arr[c]=c;\n",
        "    crear(arr,n,c+1);\n",
        "}\n",
        "\n",
        "void imprimir(int arr[], int n, int c){\n",
        "    if(c>n)return;\n",
        "    cout<<arr[c]<<endl;\n",
        "    imprimir(arr,n,c+1);\n",
        "}\n",
        "\n",
        "int main() {\n",
        "    int n, c;\n",
        "    c=1;\n",
        "    cin>>n; cout<<\"Total: \"<<n<<endl;\n",
        "    int arr[n];\n",
        "    crear(arr,n,c);\n",
        "    c=1;\n",
        "    imprimir(arr,n,c);\n",
        "\treturn 0;\n",
        "}"
      ],
      "metadata": {
        "colab": {
          "base_uri": "https://localhost:8080/"
        },
        "id": "cGxfDsCP4dku",
        "outputId": "e53634ee-6774-4241-b1a8-9526beeef404"
      },
      "execution_count": 88,
      "outputs": [
        {
          "output_type": "stream",
          "name": "stdout",
          "text": [
            "Overwriting ejercicio4.cpp\n"
          ]
        }
      ]
    },
    {
      "cell_type": "code",
      "source": [
        "!g++ -std=c++1z ejercicio4.cpp && ./a.out"
      ],
      "metadata": {
        "colab": {
          "base_uri": "https://localhost:8080/"
        },
        "id": "eWbLHxhJ_4Nw",
        "outputId": "6bcd7125-9ab9-461a-9605-278dcfc8b6d0"
      },
      "execution_count": 89,
      "outputs": [
        {
          "output_type": "stream",
          "name": "stdout",
          "text": [
            "10\n",
            "Total: 10\n",
            "1\n",
            "2\n",
            "3\n",
            "4\n",
            "5\n",
            "6\n",
            "7\n",
            "8\n",
            "9\n",
            "10\n"
          ]
        }
      ]
    }
  ]
}